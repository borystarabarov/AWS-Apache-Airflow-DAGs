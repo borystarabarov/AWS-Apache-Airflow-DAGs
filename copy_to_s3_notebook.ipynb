{
 "cells": [
  {
   "cell_type": "code",
   "execution_count": 2,
   "metadata": {},
   "outputs": [
    {
     "name": "stdout",
     "output_type": "stream",
     "text": [
      "Successfully authenticated with AWS. Account ID: 211125539420\n",
      "\n",
      "Available S3 buckets:\n",
      "- airflow-7edea4e0-e3de-11ef-b67a-0e64ea499a17-bucket\n",
      "- aws-athena-query-results-211125539420-eu-central-1-b01h72cg\n",
      "- aws-athena-query-results-btarabarov\n",
      "- aws-emr-studio-211125539420-eu-central-1\n",
      "- aws-glue-assets-211125539420-eu-central-1\n",
      "- aws-logs-211125539420-eu-central-1\n",
      "- btarabarov-retail\n",
      "- btarabarov-retail-copy\n",
      "- cf-templates--1geh4rsg7vko-us-east-2\n",
      "- cf-templates-14friqaizynly-us-east-1\n",
      "- cloudformation-source-btarabarov\n",
      "- emr-dev-exp-211125539420\n",
      "- emr-serverless-dev-exp\n",
      "- itv-github-btarabarov\n",
      "- itv-github-emr-btarabarov\n",
      "- itv-retail-btarabarov\n"
     ]
    }
   ],
   "source": [
    "import boto3\n",
    "from botocore.exceptions import ClientError\n",
    "\n",
    "# Create a session with explicit profile\n",
    "session = boto3.Session(profile_name='awsadmin')\n",
    "\n",
    "try:\n",
    "    # Get the current AWS identity to verify credentials\n",
    "    sts = session.client('sts')\n",
    "    identity = sts.get_caller_identity()\n",
    "    print(f\"Successfully authenticated with AWS. Account ID: {identity['Account']}\")\n",
    "    \n",
    "    # Create an S3 client using the session\n",
    "    s3_client = session.client('s3')\n",
    "    \n",
    "    # List all S3 buckets\n",
    "    response = s3_client.list_buckets()\n",
    "    \n",
    "    # Print each bucket name\n",
    "    print('\\nAvailable S3 buckets:')\n",
    "    if not response['Buckets']:\n",
    "        print(\"No buckets found in this account.\")\n",
    "    else:\n",
    "        for bucket in response['Buckets']:\n",
    "            print(f\"- {bucket['Name']}\")\n",
    "            \n",
    "except ClientError as e:\n",
    "    print(f\"Error occurred: {e}\")\n",
    "except Exception as e:\n",
    "    print(f\"Unexpected error: {e}\")"
   ]
  },
  {
   "cell_type": "code",
   "execution_count": 3,
   "metadata": {},
   "outputs": [
    {
     "name": "stdout",
     "output_type": "stream",
     "text": [
      "Successfully uploaded dags/data_pipeline.py to s3://airflow-7edea4e0-e3de-11ef-b67a-0e64ea499a17-bucket/dags/data_pipeline.py\n"
     ]
    }
   ],
   "source": [
    "try:\n",
    "    # Define the local file path and S3 destination\n",
    "    local_file_path = 'dags/data_pipeline.py'  # Replace with your local DAG file path\n",
    "    bucket_name = 'airflow-7edea4e0-e3de-11ef-b67a-0e64ea499a17-bucket'\n",
    "    s3_key = 'dags/data_pipeline.py'  # The filename in S3 under dags folder\n",
    "    \n",
    "    # Upload the file\n",
    "    s3_client.upload_file(\n",
    "        Filename=local_file_path,\n",
    "        Bucket=bucket_name,\n",
    "        Key=s3_key\n",
    "    )\n",
    "    print(f\"Successfully uploaded {local_file_path} to s3://{bucket_name}/{s3_key}\")\n",
    "    \n",
    "except ClientError as e:\n",
    "    print(f\"Error uploading file to S3: {e}\")\n",
    "except FileNotFoundError:\n",
    "    print(f\"Local file not found: {local_file_path}\")\n",
    "except Exception as e:\n",
    "    print(f\"Unexpected error: {e}\")"
   ]
  }
 ],
 "metadata": {
  "kernelspec": {
   "display_name": "Python 3",
   "language": "python",
   "name": "python3"
  },
  "language_info": {
   "codemirror_mode": {
    "name": "ipython",
    "version": 3
   },
   "file_extension": ".py",
   "mimetype": "text/x-python",
   "name": "python",
   "nbconvert_exporter": "python",
   "pygments_lexer": "ipython3",
   "version": "3.12.3"
  }
 },
 "nbformat": 4,
 "nbformat_minor": 2
}
